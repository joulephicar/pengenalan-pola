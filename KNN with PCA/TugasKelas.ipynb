{
 "cells": [
  {
   "cell_type": "markdown",
   "metadata": {},
   "source": [
    "# PCA Iris Dataset\n",
    "\n",
    "#### Dataset: https://archive.ics.uci.edu/ml/machine-learning-databases/iris/iris.data"
   ]
  },
  {
   "cell_type": "markdown",
   "metadata": {},
   "source": [
    "## 1. Memuat Data\n",
    "---"
   ]
  },
  {
   "cell_type": "code",
   "execution_count": 1,
   "metadata": {},
   "outputs": [
    {
     "data": {
      "text/html": [
       "<div>\n",
       "<style scoped>\n",
       "    .dataframe tbody tr th:only-of-type {\n",
       "        vertical-align: middle;\n",
       "    }\n",
       "\n",
       "    .dataframe tbody tr th {\n",
       "        vertical-align: top;\n",
       "    }\n",
       "\n",
       "    .dataframe thead th {\n",
       "        text-align: right;\n",
       "    }\n",
       "</style>\n",
       "<table border=\"1\" class=\"dataframe\">\n",
       "  <thead>\n",
       "    <tr style=\"text-align: right;\">\n",
       "      <th></th>\n",
       "      <th>pelvic_incidence</th>\n",
       "      <th>pelvic_tilt</th>\n",
       "      <th>lumbar_lordosis_angle</th>\n",
       "      <th>sacral_slope</th>\n",
       "      <th>pelvic_radius</th>\n",
       "      <th>degree_spondylolisthesis</th>\n",
       "      <th>kelas</th>\n",
       "    </tr>\n",
       "  </thead>\n",
       "  <tbody>\n",
       "    <tr>\n",
       "      <th>0</th>\n",
       "      <td>63.03</td>\n",
       "      <td>22.55</td>\n",
       "      <td>39.61</td>\n",
       "      <td>40.48</td>\n",
       "      <td>98.67</td>\n",
       "      <td>-0.25</td>\n",
       "      <td>AB</td>\n",
       "    </tr>\n",
       "    <tr>\n",
       "      <th>1</th>\n",
       "      <td>39.06</td>\n",
       "      <td>10.06</td>\n",
       "      <td>25.02</td>\n",
       "      <td>29.00</td>\n",
       "      <td>114.41</td>\n",
       "      <td>4.56</td>\n",
       "      <td>AB</td>\n",
       "    </tr>\n",
       "    <tr>\n",
       "      <th>2</th>\n",
       "      <td>68.83</td>\n",
       "      <td>22.22</td>\n",
       "      <td>50.09</td>\n",
       "      <td>46.61</td>\n",
       "      <td>105.99</td>\n",
       "      <td>-3.53</td>\n",
       "      <td>AB</td>\n",
       "    </tr>\n",
       "    <tr>\n",
       "      <th>3</th>\n",
       "      <td>69.30</td>\n",
       "      <td>24.65</td>\n",
       "      <td>44.31</td>\n",
       "      <td>44.64</td>\n",
       "      <td>101.87</td>\n",
       "      <td>11.21</td>\n",
       "      <td>AB</td>\n",
       "    </tr>\n",
       "    <tr>\n",
       "      <th>4</th>\n",
       "      <td>49.71</td>\n",
       "      <td>9.65</td>\n",
       "      <td>28.32</td>\n",
       "      <td>40.06</td>\n",
       "      <td>108.17</td>\n",
       "      <td>7.92</td>\n",
       "      <td>AB</td>\n",
       "    </tr>\n",
       "    <tr>\n",
       "      <th>5</th>\n",
       "      <td>40.25</td>\n",
       "      <td>13.92</td>\n",
       "      <td>25.12</td>\n",
       "      <td>26.33</td>\n",
       "      <td>130.33</td>\n",
       "      <td>2.23</td>\n",
       "      <td>AB</td>\n",
       "    </tr>\n",
       "    <tr>\n",
       "      <th>6</th>\n",
       "      <td>53.43</td>\n",
       "      <td>15.86</td>\n",
       "      <td>37.17</td>\n",
       "      <td>37.57</td>\n",
       "      <td>120.57</td>\n",
       "      <td>5.99</td>\n",
       "      <td>AB</td>\n",
       "    </tr>\n",
       "    <tr>\n",
       "      <th>7</th>\n",
       "      <td>45.37</td>\n",
       "      <td>10.76</td>\n",
       "      <td>29.04</td>\n",
       "      <td>34.61</td>\n",
       "      <td>117.27</td>\n",
       "      <td>-10.68</td>\n",
       "      <td>AB</td>\n",
       "    </tr>\n",
       "    <tr>\n",
       "      <th>8</th>\n",
       "      <td>43.79</td>\n",
       "      <td>13.53</td>\n",
       "      <td>42.69</td>\n",
       "      <td>30.26</td>\n",
       "      <td>125.00</td>\n",
       "      <td>13.29</td>\n",
       "      <td>AB</td>\n",
       "    </tr>\n",
       "    <tr>\n",
       "      <th>9</th>\n",
       "      <td>36.69</td>\n",
       "      <td>5.01</td>\n",
       "      <td>41.95</td>\n",
       "      <td>31.68</td>\n",
       "      <td>84.24</td>\n",
       "      <td>0.66</td>\n",
       "      <td>AB</td>\n",
       "    </tr>\n",
       "  </tbody>\n",
       "</table>\n",
       "</div>"
      ],
      "text/plain": [
       "   pelvic_incidence  pelvic_tilt  lumbar_lordosis_angle  sacral_slope  \\\n",
       "0             63.03        22.55                  39.61         40.48   \n",
       "1             39.06        10.06                  25.02         29.00   \n",
       "2             68.83        22.22                  50.09         46.61   \n",
       "3             69.30        24.65                  44.31         44.64   \n",
       "4             49.71         9.65                  28.32         40.06   \n",
       "5             40.25        13.92                  25.12         26.33   \n",
       "6             53.43        15.86                  37.17         37.57   \n",
       "7             45.37        10.76                  29.04         34.61   \n",
       "8             43.79        13.53                  42.69         30.26   \n",
       "9             36.69         5.01                  41.95         31.68   \n",
       "\n",
       "   pelvic_radius  degree_spondylolisthesis kelas  \n",
       "0          98.67                     -0.25    AB  \n",
       "1         114.41                      4.56    AB  \n",
       "2         105.99                     -3.53    AB  \n",
       "3         101.87                     11.21    AB  \n",
       "4         108.17                      7.92    AB  \n",
       "5         130.33                      2.23    AB  \n",
       "6         120.57                      5.99    AB  \n",
       "7         117.27                    -10.68    AB  \n",
       "8         125.00                     13.29    AB  \n",
       "9          84.24                      0.66    AB  "
      ]
     },
     "execution_count": 1,
     "metadata": {},
     "output_type": "execute_result"
    }
   ],
   "source": [
    "%matplotlib inline\n",
    "import pandas as pd\n",
    "import matplotlib.pyplot as plt\n",
    "import numpy as np\n",
    "import seaborn as sns\n",
    "from matplotlib import pyplot as plt\n",
    "import math\n",
    "\n",
    "# membaca data\n",
    "vertebral = pd.read_csv(\n",
    "    filepath_or_buffer='~/Downloads/vertebral_column_data/column_2C.dat',\n",
    "    header=None,\n",
    "    sep=',')\n",
    "\n",
    "# definisikan nama kolom\n",
    "vertebral.columns=['pelvic_incidence', 'pelvic_tilt', 'lumbar_lordosis_angle',\n",
    "                   'sacral_slope', 'pelvic_radius', 'degree_spondylolisthesis', 'kelas']\n",
    "vertebral.dropna(how=\"all\", inplace=True) # menghilangkan data row kosong (null)\n",
    "\n",
    "vertebral.head(10)"
   ]
  },
  {
   "cell_type": "code",
   "execution_count": 2,
   "metadata": {},
   "outputs": [
    {
     "name": "stdout",
     "output_type": "stream",
     "text": [
      "<class 'pandas.core.frame.DataFrame'>\n",
      "Int64Index: 310 entries, 0 to 309\n",
      "Data columns (total 7 columns):\n",
      " #   Column                    Non-Null Count  Dtype  \n",
      "---  ------                    --------------  -----  \n",
      " 0   pelvic_incidence          310 non-null    float64\n",
      " 1   pelvic_tilt               310 non-null    float64\n",
      " 2   lumbar_lordosis_angle     310 non-null    float64\n",
      " 3   sacral_slope              310 non-null    float64\n",
      " 4   pelvic_radius             310 non-null    float64\n",
      " 5   degree_spondylolisthesis  310 non-null    float64\n",
      " 6   kelas                     310 non-null    object \n",
      "dtypes: float64(6), object(1)\n",
      "memory usage: 19.4+ KB\n"
     ]
    }
   ],
   "source": [
    "vertebral.info()"
   ]
  },
  {
   "cell_type": "code",
   "execution_count": 3,
   "metadata": {},
   "outputs": [
    {
     "data": {
      "text/plain": [
       "numpy.ndarray"
      ]
     },
     "execution_count": 3,
     "metadata": {},
     "output_type": "execute_result"
    }
   ],
   "source": [
    "# split data table into data X and class labels y\n",
    "\n",
    "X = vertebral.iloc[:,0:6].values\n",
    "y = vertebral.iloc[:,6].values\n",
    "type(X)"
   ]
  },
  {
   "cell_type": "markdown",
   "metadata": {},
   "source": [
    "## 2. Visualisasi Data\n",
    "---"
   ]
  },
  {
   "cell_type": "code",
   "execution_count": 4,
   "metadata": {},
   "outputs": [
    {
     "data": {
      "image/png": "[encoded data removed]",
      "text/plain": [
       "<Figure size 720x576 with 6 Axes>"
      ]
     },
     "metadata": {},
     "output_type": "display_data"
    }
   ],
   "source": [
    "# Melihat pesebaran kelas per fitur\n",
    "\n",
    "plt.style.use(\"seaborn\")\n",
    "plt.rcParams[\"figure.figsize\"] = (8,6)\n",
    "\n",
    "label_dict = {1: 'AB',\n",
    "              2: 'NO'}\n",
    "\n",
    "feature_dict = {0: 'pelvic_incidence',\n",
    "                1: 'pelvic_tilt',\n",
    "                2: 'lumbar_lordosis_angle',\n",
    "                3: 'sacral_slope',\n",
    "                4: 'pelvic_radius', \n",
    "                5: 'degree_spondylolisthesis'}\n",
    "\n",
    "with plt.style.context('seaborn-whitegrid'):\n",
    "    plt.figure(figsize=(10, 8))\n",
    "    for cnt in range(6):\n",
    "        plt.subplot(2, 3, cnt+1)\n",
    "        for lab in ('AB', 'NO'):\n",
    "            plt.hist(X[y==lab, cnt],\n",
    "                     label=lab,\n",
    "                     bins=10,\n",
    "                     alpha=0.3,)\n",
    "        plt.xlabel(feature_dict[cnt])\n",
    "    plt.legend(loc='upper right', fancybox=True, fontsize=8)\n",
    "\n",
    "    plt.tight_layout()\n",
    "    plt.show()"
   ]
  },
  {
   "cell_type": "code",
   "execution_count": 5,
   "metadata": {},
   "outputs": [
    {
     "data": {
      "image/png": "[encoded data removed]",
      "text/plain": [
       "<Figure size 576x432 with 1 Axes>"
      ]
     },
     "metadata": {},
     "output_type": "display_data"
    }
   ],
   "source": [
    "# memilih 2 fitur, melihat persebarannya\n",
    "# plt.style.use(\"ggplot\")\n",
    "# plt.rcParams[\"figure.figsize\"] = (12,8)\n",
    "sns.scatterplot(x = vertebral.pelvic_incidence, y = vertebral.pelvic_tilt,\n",
    "                hue = vertebral.kelas, style = vertebral.kelas);"
   ]
  },
  {
   "cell_type": "markdown",
   "metadata": {},
   "source": [
    "Iris Plants Database\n",
    "====================\n",
    "\n",
    "Notes\n",
    "-----\n",
    "Data Set Characteristics:<br>\n",
    "    :Number of Instances: 150 (50 in each of three classes)<br>\n",
    "    :Number of Attributes: 4 numeric, predictive attributes and the class<br>\n",
    "    :Attribute Information:<br>\n",
    "        - sepal length in cm\n",
    "        - sepal width in cm\n",
    "        - petal length in cm\n",
    "        - petal width in cm\n",
    "        - class:\n",
    "                - Iris-Setosa\n",
    "                - Iris-Versicolour\n",
    "                - Iris-Virginica\n",
    "    :Summary Statistics:\n",
    "\n",
    "    ============== ==== ==== ======= ===== ====================\n",
    "                    Min  Max   Mean    SD   Class Correlation\n",
    "    ============== ==== ==== ======= ===== ====================\n",
    "    sepal length:   4.3  7.9   5.84   0.83    0.7826\n",
    "    sepal width:    2.0  4.4   3.05   0.43   -0.4194\n",
    "    petal length:   1.0  6.9   3.76   1.76    0.9490  (high!)\n",
    "    petal width:    0.1  2.5   1.20  0.76     0.9565  (high!)\n",
    "    ============== ==== ==== ======= ===== ====================\n",
    "    \n",
    "    :Missing Attribute Values: None\n",
    "    :Class Distribution: 33.3% for each of 3 classes.\n",
    "    :Creator: R.A. Fisher\n",
    "    :Donor: Michael Marshall (MARSHALL%PLU@io.arc.nasa.gov)\n",
    "    :Date: July, 1988"
   ]
  },
  {
   "cell_type": "markdown",
   "metadata": {},
   "source": [
    "## 3. Melakukan Standarisasi Terhadap Data\n",
    "---"
   ]
  },
  {
   "cell_type": "code",
   "execution_count": 6,
   "metadata": {},
   "outputs": [],
   "source": [
    "def getRowData(data, col):\n",
    "    dataRow = []\n",
    "    for row in data:\n",
    "        dataRow.append(row[col])\n",
    "    return dataRow\n",
    "\n",
    "X_f = [getRowData(X, 0), getRowData(X, 1),\n",
    "      getRowData(X, 2), getRowData(X, 3),\n",
    "      getRowData(X, 4), getRowData(X, 5)]\n",
    "\n",
    "minF = [min(X_f[0]), min(X_f[1]), min(X_f[2]), min(X_f[3]), min(X_f[4]), min(X_f[5])]\n",
    "\n",
    "maxF = [max(X_f[0]), max(X_f[1]), max(X_f[2]), max(X_f[3]), max(X_f[4]), max(X_f[5])]\n",
    "\n",
    "X_MinMax = X.copy()\n",
    "for i in range(len(X)): # baris\n",
    "    for j in range(len(X[0])): # kolom\n",
    "        X_MinMax[i, j] = (X_MinMax[i, j] - minF[j]) / (maxF[j] - minF[j])"
   ]
  },
  {
   "cell_type": "code",
   "execution_count": 7,
   "metadata": {},
   "outputs": [
    {
     "name": "stdout",
     "output_type": "stream",
     "text": [
      "minFitur1: 26.15\n",
      "minFitur2: -6.55\n",
      "minFitur3: 14.0\n",
      "minFitur3: 13.37\n",
      "minFitur3: 70.08\n",
      "minFitur4: -11.06\n",
      "\n",
      "maxFitur1: 129.83\n",
      "maxFitur2: 49.43\n",
      "maxFitur3: 125.74\n",
      "maxFitur3: 121.43\n",
      "maxFitur3: 163.07\n",
      "maxFitur4: 418.54\n",
      "\n",
      "Hasil manual:\n",
      " [[0.35570988 0.51982851 0.22919277 0.25087914 0.30745241 0.02516294]\n",
      " [0.12451775 0.29671311 0.0986218  0.14464187 0.47671793 0.0363594 ]\n",
      " [0.41165123 0.51393355 0.32298192 0.30760689 0.38617056 0.01752793]\n",
      " [0.41618441 0.55734191 0.2712547  0.28937627 0.34186472 0.05183892]\n",
      " [0.22723765 0.28938907 0.12815464 0.24699241 0.40961394 0.04418063]\n",
      " [0.13599537 0.36566631 0.09951674 0.11993337 0.64791913 0.03093575]\n",
      " [0.26311728 0.40032154 0.20735636 0.22394966 0.54296161 0.03968808]\n",
      " [0.18537809 0.30921758 0.13459817 0.19655747 0.50747392 0.00088454]\n",
      " [0.17013889 0.35869954 0.25675676 0.15630205 0.59060114 0.05668063]\n",
      " [0.10165895 0.20650232 0.25013424 0.1694429  0.15227444 0.02728119]]\n"
     ]
    }
   ],
   "source": [
    "print(f\"minFitur1: {minF[0]}\")\n",
    "print(f\"minFitur2: {minF[1]}\")\n",
    "print(f\"minFitur3: {minF[2]}\")\n",
    "print(f\"minFitur3: {minF[3]}\")\n",
    "print(f\"minFitur3: {minF[4]}\")\n",
    "print(f\"minFitur4: {minF[5]}\\n\")\n",
    "\n",
    "print(f\"maxFitur1: {maxF[0]}\")\n",
    "print(f\"maxFitur2: {maxF[1]}\")\n",
    "print(f\"maxFitur3: {maxF[2]}\")\n",
    "print(f\"maxFitur3: {maxF[3]}\")\n",
    "print(f\"maxFitur3: {maxF[4]}\")\n",
    "print(f\"maxFitur4: {maxF[5]}\\n\")\n",
    "\n",
    "print(f\"Hasil manual:\\n {X_MinMax[:10]}\")"
   ]
  },
  {
   "cell_type": "code",
   "execution_count": null,
   "metadata": {},
   "outputs": [],
   "source": []
  },
  {
   "cell_type": "code",
   "execution_count": 8,
   "metadata": {},
   "outputs": [
    {
     "name": "stdout",
     "output_type": "stream",
     "text": [
      "Hasil Library: \n",
      "[[0.35570988 0.51982851 0.22919277 0.25087914 0.30745241 0.02516294]\n",
      " [0.12451775 0.29671311 0.0986218  0.14464187 0.47671793 0.0363594 ]\n",
      " [0.41165123 0.51393355 0.32298192 0.30760689 0.38617056 0.01752793]\n",
      " [0.41618441 0.55734191 0.2712547  0.28937627 0.34186472 0.05183892]\n",
      " [0.22723765 0.28938907 0.12815464 0.24699241 0.40961394 0.04418063]\n",
      " [0.13599537 0.36566631 0.09951674 0.11993337 0.64791913 0.03093575]\n",
      " [0.26311728 0.40032154 0.20735636 0.22394966 0.54296161 0.03968808]\n",
      " [0.18537809 0.30921758 0.13459817 0.19655747 0.50747392 0.00088454]\n",
      " [0.17013889 0.35869954 0.25675676 0.15630205 0.59060114 0.05668063]\n",
      " [0.10165895 0.20650232 0.25013424 0.1694429  0.15227444 0.02728119]]\n"
     ]
    }
   ],
   "source": [
    "# impor library untuk melakukan standarisasi dataset\n",
    "\n",
    "from sklearn.preprocessing import MinMaxScaler\n",
    "X_lib_minmax = MinMaxScaler().fit_transform(X)\n",
    "\n",
    "print(f\"Hasil Library: \\n{X_lib_minmax[:10]}\")\n",
    "# X_std_minmax.mean(axis=0)\n",
    "# X_std_minmax.std(axis=0)"
   ]
  },
  {
   "cell_type": "markdown",
   "metadata": {},
   "source": [
    "## 4. Menghitung Vektor Eigen dan Nilai Eigen\n",
    "---"
   ]
  },
  {
   "cell_type": "markdown",
   "metadata": {},
   "source": [
    "Covariance: $\\sigma_{jk} = \\frac{1}{n-1}\\sum_{i=1}^{N}(x_{ij}-\\bar{x_j})(x_{ik}-\\bar{x_k})$\n",
    "\n",
    "Coviance matrix: $Σ = \\frac{1}{n-1}((X-\\bar{x})^T(X-\\bar{x}))$"
   ]
  },
  {
   "cell_type": "markdown",
   "metadata": {},
   "source": [
    "##### Menggunakan rumus"
   ]
  },
  {
   "cell_type": "code",
   "execution_count": 9,
   "metadata": {},
   "outputs": [
    {
     "name": "stdout",
     "output_type": "stream",
     "text": [
      "Matriks Kovarian:\n",
      " [[ 0.02763685  0.01870009  0.01979975  0.01682892 -0.00589226  0.0092835 ]\n",
      " [ 0.01870009  0.03196252  0.01284669  0.00138411  0.00083624  0.00621838]\n",
      " [ 0.01979975  0.01284669  0.02757064  0.01234194 -0.00191115  0.00774712]\n",
      " [ 0.01682892  0.00138411  0.01234194  0.01542954 -0.00608666  0.00568592]\n",
      " [-0.00589226  0.00083624 -0.00191115 -0.00608666  0.02051074 -0.00032646]\n",
      " [ 0.0092835   0.00621838  0.00774712  0.00568592 -0.00032646  0.00764358]]\n"
     ]
    },
    {
     "data": {
      "text/plain": [
       "310"
      ]
     },
     "execution_count": 9,
     "metadata": {},
     "output_type": "execute_result"
    }
   ],
   "source": [
    "z_mean_vec = np.mean(X_MinMax, axis=0) # menghitung mean global untuk zero mean\n",
    "cov_mat = (X_MinMax - z_mean_vec).T.dot((X_MinMax - z_mean_vec)) / (len(X_MinMax)-1)\n",
    "print(f'Matriks Kovarian:\\n {cov_mat}')\n",
    "len(X_MinMax)"
   ]
  },
  {
   "cell_type": "markdown",
   "metadata": {},
   "source": [
    "##### Menggunakan Library Numpy"
   ]
  },
  {
   "cell_type": "code",
   "execution_count": 10,
   "metadata": {},
   "outputs": [
    {
     "name": "stdout",
     "output_type": "stream",
     "text": [
      "Matriks Kovarian:\n",
      " [[ 0.02763685  0.01870009  0.01979975  0.01682892 -0.00589226  0.0092835 ]\n",
      " [ 0.01870009  0.03196252  0.01284669  0.00138411  0.00083624  0.00621838]\n",
      " [ 0.01979975  0.01284669  0.02757064  0.01234194 -0.00191115  0.00774712]\n",
      " [ 0.01682892  0.00138411  0.01234194  0.01542954 -0.00608666  0.00568592]\n",
      " [-0.00589226  0.00083624 -0.00191115 -0.00608666  0.02051074 -0.00032646]\n",
      " [ 0.0092835   0.00621838  0.00774712  0.00568592 -0.00032646  0.00764358]]\n"
     ]
    }
   ],
   "source": [
    "covariance_matrix = np.cov(X_MinMax.T)\n",
    "print(\"Matriks Kovarian:\\n\", covariance_matrix)"
   ]
  },
  {
   "cell_type": "code",
   "execution_count": 11,
   "metadata": {},
   "outputs": [
    {
     "name": "stdout",
     "output_type": "stream",
     "text": [
      "Vektor Eigen:\n",
      " [[ 5.91618406e-01  1.00081776e-01  6.48491333e-01 -2.26190104e-01\n",
      "   4.08922795e-01 -3.24110320e-02]\n",
      " [ 4.67092818e-01 -6.70434335e-01 -3.50145124e-01 -4.23657108e-02\n",
      "  -1.59682580e-02 -4.55730902e-01]\n",
      " [ 5.15062422e-01  8.01383577e-02  2.02763389e-06 -5.83246025e-03\n",
      "  -7.33444172e-01  4.36250127e-01]\n",
      " [ 3.25660035e-01  4.43335686e-01 -6.75912259e-01 -1.95023188e-01\n",
      "   4.00609737e-01  2.04986398e-01]\n",
      " [-1.15823953e-01 -5.80957286e-01 -7.30617887e-06 -1.32188614e-01\n",
      "   2.95136043e-01  7.37898591e-01]\n",
      " [ 2.16917071e-01  4.62435327e-03  3.03514419e-05  9.44193461e-01\n",
      "   2.16779527e-01  1.20128862e-01]]\n",
      "\n",
      "Nilai Eigen:\n",
      " [7.34594714e-02 2.74018734e-02 1.11748200e-09 3.96403930e-03\n",
      " 8.54928570e-03 1.73791894e-02]\n"
     ]
    }
   ],
   "source": [
    "nilai_eigen, vektor_eig = np.linalg.eig(covariance_matrix)\n",
    "print(f\"Vektor Eigen:\\n {vektor_eig}\\n\")\n",
    "print(f\"Nilai Eigen:\\n {nilai_eigen}\")"
   ]
  },
  {
   "cell_type": "code",
   "execution_count": 12,
   "metadata": {},
   "outputs": [],
   "source": [
    "# X_df = pd.DataFrame(X)\n",
    "# X_df.cov()"
   ]
  },
  {
   "cell_type": "markdown",
   "metadata": {},
   "source": [
    "##### Menggunakan Library Sklean PCA langsung"
   ]
  },
  {
   "cell_type": "code",
   "execution_count": 13,
   "metadata": {},
   "outputs": [
    {
     "name": "stdout",
     "output_type": "stream",
     "text": [
      "Matrix Kovarian menggunakan library: \n",
      "[[ 0.02763685  0.01870009  0.01979975  0.01682892 -0.00589226  0.0092835 ]\n",
      " [ 0.01870009  0.03196252  0.01284669  0.00138411  0.00083624  0.00621838]\n",
      " [ 0.01979975  0.01284669  0.02757064  0.01234194 -0.00191115  0.00774712]\n",
      " [ 0.01682892  0.00138411  0.01234194  0.01542954 -0.00608666  0.00568592]\n",
      " [-0.00589226  0.00083624 -0.00191115 -0.00608666  0.02051074 -0.00032646]\n",
      " [ 0.0092835   0.00621838  0.00774712  0.00568592 -0.00032646  0.00764358]]\n",
      "\n",
      "Vektor Eigen (transpose) menggunakan library: \n",
      "[[ 5.91618406e-01  4.67092818e-01  5.15062422e-01  3.25660035e-01\n",
      "  -1.15823953e-01  2.16917071e-01]\n",
      " [ 1.00081776e-01 -6.70434335e-01  8.01383577e-02  4.43335686e-01\n",
      "  -5.80957286e-01  4.62435327e-03]\n",
      " [ 3.24110320e-02  4.55730902e-01 -4.36250127e-01 -2.04986398e-01\n",
      "  -7.37898591e-01 -1.20128862e-01]\n",
      " [ 4.08922795e-01 -1.59682580e-02 -7.33444172e-01  4.00609737e-01\n",
      "   2.95136043e-01  2.16779527e-01]\n",
      " [-2.26190104e-01 -4.23657108e-02 -5.83246025e-03 -1.95023188e-01\n",
      "  -1.32188614e-01  9.44193461e-01]\n",
      " [ 6.48491333e-01 -3.50145124e-01  2.02763389e-06 -6.75912259e-01\n",
      "  -7.30617888e-06  3.03514419e-05]]\n",
      "\n",
      "Nilai Eigen menggunakan library: \n",
      "[7.34594714e-02 2.74018734e-02 1.73791894e-02 8.54928570e-03\n",
      " 3.96403930e-03 1.11748199e-09]\n",
      "\n"
     ]
    }
   ],
   "source": [
    "from sklearn.decomposition import PCA\n",
    "pca = PCA()\n",
    "pca.fit_transform(X_MinMax)\n",
    "print(f\"Matrix Kovarian menggunakan library: \\n{pca.get_covariance()}\\n\")\n",
    "print(f\"Vektor Eigen (transpose) menggunakan library: \\n{pca.components_}\\n\")\n",
    "print(f\"Nilai Eigen menggunakan library: \\n{pca.explained_variance_}\\n\")"
   ]
  },
  {
   "cell_type": "markdown",
   "metadata": {},
   "source": [
    "## 4. Menghitung Principal Component\n",
    "---"
   ]
  },
  {
   "cell_type": "code",
   "execution_count": 14,
   "metadata": {},
   "outputs": [
    {
     "name": "stdout",
     "output_type": "stream",
     "text": [
      "0.07345947143949497\n",
      "0.027401873395277214\n",
      "0.01737918938557526\n",
      "0.008549285704428594\n",
      "0.003964039302468199\n",
      "1.1174820022680314e-09\n"
     ]
    }
   ],
   "source": [
    "# Melihat nilai eigein (terurut)\n",
    "nilai_eigen[::-1].sort()\n",
    "# nilai_eigen_sort = nilai_eigen_sort[::-1]\n",
    "for val in nilai_eigen:\n",
    "    print(val)\n",
    "    \n",
    "# tye"
   ]
  },
  {
   "cell_type": "code",
   "execution_count": 15,
   "metadata": {},
   "outputs": [
    {
     "name": "stdout",
     "output_type": "stream",
     "text": [
      "Jumlah nilai eigen seluruhnya: 0.13075386034472622\n"
     ]
    }
   ],
   "source": [
    "# Menjumlahkan Nilai Eigen\n",
    "sum_eigens = 0\n",
    "for eigen in nilai_eigen:\n",
    "    sum_eigens += eigen\n",
    "print(f\"Jumlah nilai eigen seluruhnya: {sum_eigens}\")"
   ]
  },
  {
   "cell_type": "code",
   "execution_count": 16,
   "metadata": {},
   "outputs": [
    {
     "name": "stdout",
     "output_type": "stream",
     "text": [
      "minimal jumlah nilai eigen jika 95% informasi \n",
      " (terbesar ke terkecil): 0.1242161673274899\n"
     ]
    }
   ],
   "source": [
    "# semisal ingin memiliki minimal 95% data maka\n",
    "min_eigen_sum = 0.95 * sum_eigens\n",
    "print(f\"minimal jumlah nilai eigen jika 95% informasi \\n (terbesar ke terkecil): {min_eigen_sum}\")"
   ]
  },
  {
   "cell_type": "markdown",
   "metadata": {},
   "source": [
    "Maka syarat 95% data akan terpenuhi ketika menggunakan nilai eigen 1 (0.23) dan 2 (0.03) menjadi 0.26 <br>\n",
    "Hal ini berarti, dari 4 principal component, kita hanya cukup memilih 2 saja (2 kolom dari vektor eigen)"
   ]
  },
  {
   "cell_type": "markdown",
   "metadata": {},
   "source": [
    "### Alternatif menggunakan \"explained variance\" atau varians terjelaskan\n",
    "Variansi terjelaskan dapat memberitahukan kepada kita seberapa banyak informasi yang berada pada tiap principle component."
   ]
  },
  {
   "cell_type": "code",
   "execution_count": 17,
   "metadata": {},
   "outputs": [
    {
     "name": "stdout",
     "output_type": "stream",
     "text": [
      "Maka, variansi terjelaskannya: \n",
      "[56.18149341504919, 20.956837008890982, 13.291530620783101, 6.538457588853451, 3.0316805117777794, 8.54645514344161e-07]\n"
     ]
    }
   ],
   "source": [
    "# Mencari Varians dari keempat\n",
    "sum_eigens = 0\n",
    "for eigen in nilai_eigen:\n",
    "    sum_eigens += eigen\n",
    "    \n",
    "v_ter = [(i / sum(nilai_eigen)) * 100 for i in nilai_eigen]\n",
    "print(f\"Maka, variansi terjelaskannya: \\n{v_ter}\")"
   ]
  },
  {
   "cell_type": "markdown",
   "metadata": {},
   "source": [
    "Dari hasil tersebut dapat diketahui bahwa PC I mengandung 84.14% informasi, PC II 11.73%, PC III 3.49%, dan PC IV 0.64%."
   ]
  },
  {
   "cell_type": "code",
   "execution_count": 18,
   "metadata": {},
   "outputs": [
    {
     "name": "stdout",
     "output_type": "stream",
     "text": [
      "Maka secara kumulatif, variansinya adalah: \n",
      "[ 56.18149342  77.13833042  90.42986104  96.96831863  99.99999915\n",
      " 100.        ]\n"
     ]
    }
   ],
   "source": [
    "# menghitung dalam kumulatif\n",
    "kumulatif_v_ter = np.cumsum(v_ter)\n",
    "print(f\"Maka secara kumulatif, variansinya adalah: \\n{kumulatif_v_ter}\")"
   ]
  },
  {
   "cell_type": "markdown",
   "metadata": {},
   "source": [
    "Dari keluaran tersebut, dapat disimpulkan bahwa jika menggunakan PC I saja dapat mengandung 92.46% informasi, jika PC I dan PC II maka 97.76% informasi, jika PC I, II, dan III maka mengandung 99.48% informasi, dan jika menggunakan semua PC maka 100% informasi"
   ]
  },
  {
   "cell_type": "markdown",
   "metadata": {},
   "source": [
    "#### Visualisasi pemilihan variansi"
   ]
  },
  {
   "cell_type": "code",
   "execution_count": 19,
   "metadata": {},
   "outputs": [
    {
     "data": {
      "image/png": "[encoded data removed]",
      "text/plain": [
       "<Figure size 576x432 with 1 Axes>"
      ]
     },
     "metadata": {},
     "output_type": "display_data"
    }
   ],
   "source": [
    "plt.style.use(\"seaborn\")\n",
    "plt.rcParams[\"figure.figsize\"] = (8,6)\n",
    "\n",
    "sns.lineplot(x = [1,2,3,4,5,6], y = kumulatif_v_ter);\n",
    "plt.xlabel(\"Number of components\")\n",
    "plt.ylabel(\"Cumulative explained variance\")\n",
    "plt.title(\"Explained variance dengan jumlah principal component\")\n",
    "plt.show()"
   ]
  },
  {
   "cell_type": "markdown",
   "metadata": {},
   "source": [
    "## 5. Memilih PC dan Menghitung Matriks Proyeksi\n",
    "---"
   ]
  },
  {
   "cell_type": "code",
   "execution_count": 20,
   "metadata": {},
   "outputs": [
    {
     "name": "stdout",
     "output_type": "stream",
     "text": [
      "Projection matrix: \n",
      " [[ 5.91618406e-01  1.00081776e-01  6.48491333e-01 -2.26190104e-01]\n",
      " [ 4.67092818e-01 -6.70434335e-01 -3.50145124e-01 -4.23657108e-02]\n",
      " [ 5.15062422e-01  8.01383577e-02  2.02763389e-06 -5.83246025e-03]\n",
      " [ 3.25660035e-01  4.43335686e-01 -6.75912259e-01 -1.95023188e-01]\n",
      " [-1.15823953e-01 -5.80957286e-01 -7.30617887e-06 -1.32188614e-01]\n",
      " [ 2.16917071e-01  4.62435327e-03  3.03514419e-05  9.44193461e-01]]\n"
     ]
    }
   ],
   "source": [
    "matriks_proj = (vektor_eig.T[:][:])[:4].T # ambil 2 Principal Component, maka ambil 2 kolom\n",
    "# (vektor_eig.T)[:2].T\n",
    "print(\"Projection matrix: \\n\", matriks_proj)"
   ]
  },
  {
   "cell_type": "code",
   "execution_count": 21,
   "metadata": {},
   "outputs": [
    {
     "data": {
      "text/plain": [
       "array([[ 0.62285048, -0.36182036, -0.12091395, -0.16962799],\n",
       "       [ 0.26283163, -0.39122102, -0.12091136, -0.09820524],\n",
       "       [ 0.70920054, -0.3653711 , -0.12091597, -0.21125644],\n",
       "       ...,\n",
       "       [ 0.60515524, -0.53612474, -0.12085319, -0.20729531],\n",
       "       [ 0.37848519, -0.351857  , -0.12091333, -0.14062683],\n",
       "       [ 0.229992  , -0.38876057, -0.12091175, -0.10725538]])"
      ]
     },
     "execution_count": 21,
     "metadata": {},
     "output_type": "execute_result"
    }
   ],
   "source": [
    "# Operasi dot vektor untuk transformasi data X (iris) menggunakan matriks proyeksi\n",
    "X_pca = X_MinMax.dot(matriks_proj)\n",
    "X_pca"
   ]
  },
  {
   "cell_type": "code",
   "execution_count": 29,
   "metadata": {},
   "outputs": [
    {
     "data": {
      "image/png": "[encoded data removed]",
      "text/plain": [
       "<Figure size 576x432 with 1 Axes>"
      ]
     },
     "metadata": {},
     "output_type": "display_data"
    }
   ],
   "source": [
    "# menggabungkan X_pca dengan kolom kelasnya kembali\n",
    "X_pca_all = np.column_stack((X_pca, y))\n",
    "X_pca_df = pd.DataFrame(X_pca_all)\n",
    "\n",
    "X_pca_df.columns=['Principal Component I', 'Principal Component II',\n",
    "                  'Principal Component III', 'Principal Component IV', 'Kelas']\n",
    "\n",
    "# modifikasi tipe data\n",
    "X_pca_df['Principal Component I'] = X_pca_df['Principal Component I'].astype('float')\n",
    "X_pca_df['Principal Component II'] = X_pca_df['Principal Component II'].astype('float')\n",
    "X_pca_df['Principal Component III'] = X_pca_df['Principal Component III'].astype('float')\n",
    "X_pca_df['Principal Component IV'] = X_pca_df['Principal Component IV'].astype('float')\n",
    "X_pca_df['Kelas'] = X_pca_df['Kelas'].astype('category')\n",
    "\n",
    "sns.scatterplot(x = X_pca_df['Principal Component I'], y = X_pca_df['Principal Component II'],\n",
    "                hue = X_pca_df['Kelas'], style = X_pca_df['Kelas']);"
   ]
  },
  {
   "cell_type": "code",
   "execution_count": 23,
   "metadata": {},
   "outputs": [
    {
     "data": {
      "text/html": [
       "<div>\n",
       "<style scoped>\n",
       "    .dataframe tbody tr th:only-of-type {\n",
       "        vertical-align: middle;\n",
       "    }\n",
       "\n",
       "    .dataframe tbody tr th {\n",
       "        vertical-align: top;\n",
       "    }\n",
       "\n",
       "    .dataframe thead th {\n",
       "        text-align: right;\n",
       "    }\n",
       "</style>\n",
       "<table border=\"1\" class=\"dataframe\">\n",
       "  <thead>\n",
       "    <tr style=\"text-align: right;\">\n",
       "      <th></th>\n",
       "      <th>Principal Component I</th>\n",
       "      <th>Principal Component II</th>\n",
       "      <th>Principal Component III</th>\n",
       "      <th>Principal Component IV</th>\n",
       "      <th>Kelas</th>\n",
       "    </tr>\n",
       "  </thead>\n",
       "  <tbody>\n",
       "    <tr>\n",
       "      <th>0</th>\n",
       "      <td>0.622850</td>\n",
       "      <td>-0.361820</td>\n",
       "      <td>-0.120914</td>\n",
       "      <td>-0.169628</td>\n",
       "      <td>AB</td>\n",
       "    </tr>\n",
       "    <tr>\n",
       "      <th>1</th>\n",
       "      <td>0.262832</td>\n",
       "      <td>-0.391221</td>\n",
       "      <td>-0.120911</td>\n",
       "      <td>-0.098205</td>\n",
       "      <td>AB</td>\n",
       "    </tr>\n",
       "    <tr>\n",
       "      <th>2</th>\n",
       "      <td>0.709201</td>\n",
       "      <td>-0.365371</td>\n",
       "      <td>-0.120916</td>\n",
       "      <td>-0.211256</td>\n",
       "      <td>AB</td>\n",
       "    </tr>\n",
       "    <tr>\n",
       "      <th>3</th>\n",
       "      <td>0.712153</td>\n",
       "      <td>-0.380349</td>\n",
       "      <td>-0.120852</td>\n",
       "      <td>-0.172011</td>\n",
       "      <td>AB</td>\n",
       "    </tr>\n",
       "    <tr>\n",
       "      <th>4</th>\n",
       "      <td>0.378193</td>\n",
       "      <td>-0.289267</td>\n",
       "      <td>-0.120913</td>\n",
       "      <td>-0.125007</td>\n",
       "      <td>AB</td>\n",
       "    </tr>\n",
       "  </tbody>\n",
       "</table>\n",
       "</div>"
      ],
      "text/plain": [
       "   Principal Component I  Principal Component II  Principal Component III  \\\n",
       "0               0.622850               -0.361820                -0.120914   \n",
       "1               0.262832               -0.391221                -0.120911   \n",
       "2               0.709201               -0.365371                -0.120916   \n",
       "3               0.712153               -0.380349                -0.120852   \n",
       "4               0.378193               -0.289267                -0.120913   \n",
       "\n",
       "   Principal Component IV Kelas  \n",
       "0               -0.169628    AB  \n",
       "1               -0.098205    AB  \n",
       "2               -0.211256    AB  \n",
       "3               -0.172011    AB  \n",
       "4               -0.125007    AB  "
      ]
     },
     "execution_count": 23,
     "metadata": {},
     "output_type": "execute_result"
    }
   ],
   "source": [
    "X_pca_df.head()"
   ]
  },
  {
   "cell_type": "code",
   "execution_count": 24,
   "metadata": {},
   "outputs": [],
   "source": [
    "# # info\n",
    "# X_pca_df.info()\n",
    "\n",
    "# # ubah kategori menjadi nilai numerikal\n",
    "# kategori = X_pca_df.select_dtypes(['category']).columns\n",
    "\n",
    "# X_pca_df[kategori] = X_pca_df[kategori].apply(lambda x: x.cat.codes)\n",
    "# X_pca_df.head()"
   ]
  },
  {
   "cell_type": "code",
   "execution_count": 30,
   "metadata": {},
   "outputs": [
    {
     "data": {
      "text/plain": [
       "str"
      ]
     },
     "execution_count": 30,
     "metadata": {},
     "output_type": "execute_result"
    }
   ],
   "source": [
    "# convert dataset hasil PCA ke tipe list\n",
    "vertebral_transform = X_pca_df.values.tolist()\n",
    "# iris_transform[0][4]\n",
    "type(vertebral_transform[0][4])"
   ]
  },
  {
   "cell_type": "markdown",
   "metadata": {},
   "source": [
    "# K-Nearest Neighboor\n",
    "---"
   ]
  },
  {
   "cell_type": "code",
   "execution_count": 32,
   "metadata": {},
   "outputs": [
    {
     "name": "stdout",
     "output_type": "stream",
     "text": [
      "248\n",
      "62\n"
     ]
    }
   ],
   "source": [
    "# split data training and testing\n",
    "cnt = 0\n",
    "vertebral_training = []\n",
    "vertebral_testing = []\n",
    "for i in range(0, len(vertebral_transform)):\n",
    "    if (i % 5 == 0):\n",
    "        vertebral_testing.append(vertebral_transform[i])\n",
    "    else:\n",
    "        vertebral_training.append(vertebral_transform[i])\n",
    "\n",
    "print(len(vertebral_training))\n",
    "print(len(vertebral_testing))"
   ]
  },
  {
   "cell_type": "code",
   "execution_count": 55,
   "metadata": {},
   "outputs": [],
   "source": [
    "# Example of calculating Euclidean distance\n",
    "from math import sqrt\n",
    "from sklearn import metrics\n",
    "\n",
    "# menghitung jarak euclid\n",
    "def euclidean_distance(row1, row2):\n",
    "    distance = 0.0\n",
    "    for i in range(len(row1)-1):\n",
    "        distance += (row1[i] - row2[i])**2\n",
    "#     print(row2[2])\n",
    "    return sqrt(distance)\n",
    "\n",
    "# fungsi dari inverse_square (weighted KNN)\n",
    "def inverse_square(jarakInv):\n",
    "#     if (jarakInv):\n",
    "    return (1.0/(jarakInv**2))\n",
    "\n",
    "# # Test distance function\n",
    "# row0 = vertebral_training[0]\n",
    "# jarak = []\n",
    "# for row in vertebral_training:\n",
    "#     distance = euclidean_distance(row0, row)\n",
    "#     jarak.append([inverse_square(distance), row[4]])\n",
    "# # karena jarak langsung dilakukan inverse maka di sort secara menurun\n",
    "# jarak.sort(reverse=True)\n",
    "\n",
    "# # for i in range(len(jarak)):\n",
    "# #     jarak[i].append(\"hello\")\n",
    "# jarak[:10]\n",
    "# # for i in range(len(jarak)):\n",
    "# #     jarak[i][0] = inverse_square(jarak[i][0])\n",
    "# # print(jarak[:10])\n",
    "\n",
    "# # from sklearn.metrics import plot_confusion_matrix\n",
    "\n",
    "# # plot_confusion_matrix(['a', 'a', 'a'], ['a', 'a', 'a'], ['a', 'b', 'c'])\n",
    "# # print(metrics.classification_report(['a', 'C', 'a'], ['a', 'a', 'C']))"
   ]
  },
  {
   "cell_type": "code",
   "execution_count": 68,
   "metadata": {},
   "outputs": [],
   "source": [
    "def voting(k, jarak_jarak_tetangga):\n",
    "#     print(f\"jaraknya:\")\n",
    "    vote = [[\"AB\", 0.0], [\"NO\", 0.0]]\n",
    "    for i in range(0, k):\n",
    "#         print(jarak_jarak_tetangga[i][1])\n",
    "        if (jarak_jarak_tetangga[i][1] == \"AB\"):\n",
    "            vote[0][1] += jarak_jarak_tetangga[i][0]\n",
    "        elif (jarak_jarak_tetangga[i][1] == \"NO\"):\n",
    "            vote[1][1] += jarak_jarak_tetangga[i][0]\n",
    "    nilaiMaks = -99999999999.9\n",
    "    kelas = \"\"\n",
    "    for i in range(len(vote)):\n",
    "        if (nilaiMaks < vote[i][1]):\n",
    "            nilaiMaks = vote[i][1]\n",
    "            kelas = vote[i][0]\n",
    "    return kelas\n",
    "\n",
    "def algo_weighted_knn(k, dataTrain, dataTest):\n",
    "    y_pred = []\n",
    "    for barisData in dataTest:  # untuk setiap data dalam dataTest\n",
    "        jarak = []\n",
    "#         print(f\"baris data test: {barisData}\")\n",
    "        for barisTraining in dataTrain:\n",
    "#             print(f\"baris data training: {barisTraining}\")\n",
    "            jarakTetangga = euclidean_distance(barisData, barisTraining)\n",
    "            jarak.append([inverse_square(jarakTetangga), barisTraining[4]])\n",
    "        jarak.sort(reverse=True)\n",
    "        # nilai k bebas\n",
    "        kelas_pred = voting(k, jarak)\n",
    "#         print(kelas_pred)\n",
    "        y_pred.append(kelas_pred)\n",
    "    return y_pred\n"
   ]
  },
  {
   "cell_type": "code",
   "execution_count": 69,
   "metadata": {},
   "outputs": [
    {
     "data": {
      "text/plain": [
       "12"
      ]
     },
     "execution_count": 69,
     "metadata": {},
     "output_type": "execute_result"
    }
   ],
   "source": [
    "\n",
    "max(10, 1, 12)"
   ]
  },
  {
   "cell_type": "code",
   "execution_count": 86,
   "metadata": {},
   "outputs": [
    {
     "name": "stdout",
     "output_type": "stream",
     "text": [
      "              precision    recall  f1-score   support\n",
      "\n",
      "          AB       0.86      0.88      0.87        42\n",
      "          NO       0.74      0.70      0.72        20\n",
      "\n",
      "    accuracy                           0.82        62\n",
      "   macro avg       0.80      0.79      0.79        62\n",
      "weighted avg       0.82      0.82      0.82        62\n",
      "\n"
     ]
    },
    {
     "data": {
      "image/png": "[encoded data removed]",
      "text/plain": [
       "<Figure size 576x432 with 2 Axes>"
      ]
     },
     "metadata": {},
     "output_type": "display_data"
    }
   ],
   "source": [
    "\n",
    "\n",
    "# algo_weighted_knn(vertebral_training, vertebral_testing)\n",
    "\n",
    "# vertebral_training\n",
    "y_prediksi_knn = algo_weighted_knn(2, vertebral_training, vertebral_testing)\n",
    "y_testing = []\n",
    "for i in range(len(vertebral_testing)):\n",
    "    y_testing.append(vertebral_testing[i][4])\n",
    "\n",
    "y_prediksi_knn\n",
    "y_testing\n",
    "# # vertebral_training[0][2]\n",
    "# # vertebral_testing[0][2]\n",
    "\n",
    "# from sklearn.metrics import plot_confusion_matrix\n",
    "from sklearn.metrics import classification_report,confusion_matrix\n",
    "\n",
    "cm = confusion_matrix(y_testing,y_prediksi_knn)\n",
    "print(metrics.classification_report(y_testing, y_prediksi_knn))\n",
    "f = sns.heatmap(cm, annot=True, xticklabels=[\"Abnormal\", \"Normal\"], yticklabels=[\"Abnormal\", \"Normal\"])"
   ]
  },
  {
   "cell_type": "code",
   "execution_count": 83,
   "metadata": {},
   "outputs": [
    {
     "data": {
      "image/png": "[encoded data removed]",
      "text/plain": [
       "<Figure size 720x576 with 2 Axes>"
      ]
     },
     "metadata": {},
     "output_type": "display_data"
    }
   ],
   "source": [
    "import itertools\n",
    "def plot_confusion_matrix(cm, classes,\n",
    "                          normalize=False,\n",
    "                          title='Confusion matrix',\n",
    "                          cmap=plt.cm.Blues):\n",
    "    \"\"\"\n",
    "    This function prints and plots the confusion matrix.\n",
    "    Normalization can be applied by setting `normalize=True`.\n",
    "    \"\"\"\n",
    "    fig = plt.figure(figsize=(10, 8)) \n",
    "    plt.imshow(cm, interpolation='nearest', cmap=cmap)\n",
    "    plt.title(title)\n",
    "    plt.colorbar()\n",
    "    tick_marks = np.arange(len(classes))\n",
    "    plt.xticks(tick_marks, classes, rotation=45)\n",
    "    plt.yticks(tick_marks, classes)\n",
    "\n",
    "    if normalize:\n",
    "        cm = cm.astype('float') / cm.sum(axis=1)[:, np.newaxis]\n",
    "\n",
    "    thresh = cm.max() / 2.\n",
    "    for i, j in itertools.product(range(cm.shape[0]), range(cm.shape[1])):\n",
    "        plt.text(j, i, cm[i, j],\n",
    "                 horizontalalignment=\"center\",\n",
    "                 color=\"white\" if cm[i, j] > thresh else \"black\")\n",
    "\n",
    "    plt.tight_layout()\n",
    "    plt.ylabel('True label')\n",
    "    plt.xlabel('Predicted label')\n",
    "    plt.show()\n",
    "    \n",
    "com = confusion_matrix(y_testing,y_prediksi_knn)\n",
    "plot_confusion_matrix(cm, classes=[\"Abnormal\", \"Normal\"],\n",
    "                      title='Confusion matrix, without normalization')"
   ]
  },
  {
   "cell_type": "code",
   "execution_count": null,
   "metadata": {},
   "outputs": [],
   "source": []
  }
 ],
 "metadata": {
  "kernelspec": {
   "display_name": "Python 3",
   "language": "python",
   "name": "python3"
  },
  "language_info": {
   "codemirror_mode": {
    "name": "ipython",
    "version": 3
   },
   "file_extension": ".py",
   "mimetype": "text/x-python",
   "name": "python",
   "nbconvert_exporter": "python",
   "pygments_lexer": "ipython3",
   "version": "3.8.3"
  }
 },
 "nbformat": 4,
 "nbformat_minor": 2
}
